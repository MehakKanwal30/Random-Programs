{
 "cells": [
  {
   "cell_type": "code",
   "execution_count": 35,
   "id": "53a3ab07",
   "metadata": {},
   "outputs": [],
   "source": [
    "# import library\n",
    "import random\n",
    "import copy"
   ]
  },
  {
   "cell_type": "code",
   "execution_count": 36,
   "id": "c014a05f",
   "metadata": {},
   "outputs": [],
   "source": [
    "# target chromosome , we want to achieve this form of chromosome from given population\n",
    "Target_chromosome = 'Muzammil Khan'\n",
    "\n",
    "# the complete date we use for our target chromosome\n",
    "data = 'abcdefghijklmnopqrstuvwxyzABCDEFGHIJKLMNOPQRSTUVWXYZ#1234567890, .-;:_!\"#%&/()=?@${[]}'\n",
    "\n",
    "\n",
    "POPULATION_SIZE = 100\n",
    "GENERATIONS = 10\n",
    "LEN_CHROMOSOME = len(Target_chromosome)\n",
    "split = 8"
   ]
  },
  {
   "cell_type": "code",
   "execution_count": 37,
   "id": "d55bba8f",
   "metadata": {},
   "outputs": [],
   "source": [
    "# creates our population\n",
    "def create_pop():\n",
    "    return [''.join([random.choice(data) for i in range(LEN_CHROMOSOME)]) for i in range(POPULATION_SIZE)]\n",
    "    "
   ]
  },
  {
   "cell_type": "code",
   "execution_count": 38,
   "id": "96e740f7",
   "metadata": {},
   "outputs": [],
   "source": [
    "# calculates fitness for given choromosome\n",
    "def fitness(chrom):\n",
    "    return len([1 for i,j in zip(chrom,Target_chromosome) if i == j])"
   ]
  },
  {
   "cell_type": "code",
   "execution_count": 39,
   "id": "8e25a9fb",
   "metadata": {},
   "outputs": [],
   "source": [
    "# returns choromosome with its fitness in a tupple\n",
    "def pop_with_fit(population):\n",
    "    pop_fit = [(i,fitness(i)) for i in population]\n",
    "    return sorted(pop_fit, key=lambda x:x[1], reverse=True)"
   ]
  },
  {
   "cell_type": "code",
   "execution_count": 40,
   "id": "2ec2e4be",
   "metadata": {},
   "outputs": [],
   "source": [
    "# selection function which will return the best 4 chromosome from population\n",
    "def selection(pop):\n",
    "    return pop[:POPULATION_SIZE//2]"
   ]
  },
  {
   "cell_type": "code",
   "execution_count": 41,
   "id": "d529adde",
   "metadata": {},
   "outputs": [],
   "source": [
    "# performing One-point crossover\n",
    "def crosover(sel):\n",
    "    cros_list = []\n",
    "    for i in range(0,len(sel),2):\n",
    "        p1,p2 = sel[i][0],sel[i+1][0]\n",
    "        c1,c2 = p1[:split]+p2[split:],p2[:split]+p1[split:]\n",
    "\n",
    "        cros_list.append(p1)\n",
    "        cros_list.append(p2)\n",
    "        cros_list.append(c1)\n",
    "        cros_list.append(c2)\n",
    "            \n",
    "    return cros_list"
   ]
  },
  {
   "cell_type": "code",
   "execution_count": 42,
   "id": "9ec7424e",
   "metadata": {},
   "outputs": [],
   "source": [
    "# performing mutation , ( bit flip on random index, 1 replace by 0 and 0 replace by 1 )\n",
    "def mutaion(crs):\n",
    "    mut = []\n",
    "    for a in crs:\n",
    "        ind  = random.randint(0,len(a)-1)\n",
    "        a = copy.deepcopy(list(a))\n",
    "        a[ind] = random.choice(Target_chromosome)\n",
    "        mut.append(''.join(a))\n",
    "    return mut"
   ]
  },
  {
   "cell_type": "code",
   "execution_count": 43,
   "id": "e2af74ed",
   "metadata": {},
   "outputs": [],
   "source": [
    "# show function which show the population with fitness, best chromosome and highest fit\n",
    "def show(pop,generation):\n",
    "    print('Generation no [',generation,']', 'Best Chromosome: ',pop[0][0],'Fitness: ',pop[0][1])"
   ]
  },
  {
   "cell_type": "code",
   "execution_count": 44,
   "id": "665c55fe",
   "metadata": {},
   "outputs": [],
   "source": [
    "# main method to run the code\n",
    "def main():\n",
    "    Population = None\n",
    "    i = 0\n",
    "    while True:\n",
    "        if Population is None :\n",
    "            Population = create_pop()\n",
    "            Popul = pop_with_fit(Population)\n",
    "        else:\n",
    "            show(Popul,i)\n",
    "            Popul = selection(Popul)\n",
    "            Popul = crosover(Popul)\n",
    "            Popul = mutaion(Popul)\n",
    "            Popul = pop_with_fit(Popul)\n",
    "        \n",
    "            if (Popul[0][1] == LEN_CHROMOSOME):\n",
    "                show(Popul,i)\n",
    "                break\n",
    "        i+=1"
   ]
  },
  {
   "cell_type": "code",
   "execution_count": 45,
   "id": "765890fb",
   "metadata": {},
   "outputs": [
    {
     "name": "stdout",
     "output_type": "stream",
     "text": [
      "Generation no [ 1 ] Best Chromosome:  MuiY[!4K:4v)l Fitness:  2\n",
      "Generation no [ 2 ] Best Chromosome:  MuiY[!4K:4vil Fitness:  2\n",
      "Generation no [ 3 ] Best Chromosome:  u[z:zSi$jo#gn Fitness:  3\n",
      "Generation no [ 4 ] Best Chromosome:  PuTrmm2Z1yxa# Fitness:  4\n",
      "Generation no [ 5 ] Best Chromosome:  PuTamm2Z1yla# Fitness:  5\n",
      "Generation no [ 6 ] Best Chromosome:  PuTamm2Z1yxaM Fitness:  5\n",
      "Generation no [ 7 ] Best Chromosome:  PuMamm2Z1yla# Fitness:  5\n",
      "Generation no [ 8 ] Best Chromosome:  Puaamm2Z1KxaK Fitness:  6\n",
      "Generation no [ 9 ] Best Chromosome:  MuMamm2Z1KxaK Fitness:  7\n",
      "Generation no [ 10 ] Best Chromosome:  MuMamm2ZuKhhn Fitness:  8\n",
      "Generation no [ 11 ] Best Chromosome:  MuMKmm2ZuKhhn Fitness:  7\n",
      "Generation no [ 12 ] Best Chromosome:  MuMamm2ZuKhmn Fitness:  8\n",
      "Generation no [ 13 ] Best Chromosome:  MuMamm2ZuKhmn Fitness:  8\n",
      "Generation no [ 14 ] Best Chromosome:  MuMamm2ZnKhmn Fitness:  8\n",
      "Generation no [ 15 ] Best Chromosome:  MuMamm2ZnKhun Fitness:  8\n",
      "Generation no [ 16 ] Best Chromosome:  MuMammzMnKhun Fitness:  8\n",
      "Generation no [ 17 ] Best Chromosome:   uzamm2Z1Khan Fitness:  9\n",
      "Generation no [ 18 ] Best Chromosome:  MumYmmiKzKhan Fitness:  9\n",
      "Generation no [ 19 ] Best Chromosome:  nuzamm2lmKhan Fitness:  10\n",
      "Generation no [ 20 ] Best Chromosome:  MuMammiluKhan Fitness:  11\n",
      "Generation no [ 21 ] Best Chromosome:  huzamm2l Khan Fitness:  11\n",
      "Generation no [ 22 ] Best Chromosome:  MuzammMl Khan Fitness:  12\n",
      "Generation no [ 23 ] Best Chromosome:  MuiammMl Khan Fitness:  11\n",
      "Generation no [ 24 ] Best Chromosome:  MuiammMl Khan Fitness:  11\n",
      "Generation no [ 25 ] Best Chromosome:  Munammin Khan Fitness:  11\n",
      "Generation no [ 26 ] Best Chromosome:  Munammil Khan Fitness:  12\n",
      "Generation no [ 27 ] Best Chromosome:  MunMmmil Khan Fitness:  11\n",
      "Generation no [ 28 ] Best Chromosome:  Muaammin Khan Fitness:  11\n",
      "Generation no [ 29 ] Best Chromosome:  Muaammin Khan Fitness:  11\n",
      "Generation no [ 30 ] Best Chromosome:  Mua mmil Khan Fitness:  11\n",
      "Generation no [ 31 ] Best Chromosome:  Muzamhil Kha  Fitness:  11\n",
      "Generation no [ 32 ] Best Chromosome:  Muzamlil Khan Fitness:  12\n",
      "Generation no [ 33 ] Best Chromosome:  Muzamlil Mhan Fitness:  11\n",
      "Generation no [ 34 ] Best Chromosome:  Muzamlil Khan Fitness:  12\n",
      "Generation no [ 35 ] Best Chromosome:  Muzamuil Khan Fitness:  12\n",
      "Generation no [ 35 ] Best Chromosome:  Muzammil Khan Fitness:  13\n"
     ]
    }
   ],
   "source": [
    "main()"
   ]
  },
  {
   "cell_type": "code",
   "execution_count": 34,
   "id": "010856a3",
   "metadata": {},
   "outputs": [
    {
     "data": {
      "text/plain": [
       "50"
      ]
     },
     "execution_count": 34,
     "metadata": {},
     "output_type": "execute_result"
    }
   ],
   "source": []
  },
  {
   "cell_type": "code",
   "execution_count": null,
   "id": "c9f9e412",
   "metadata": {},
   "outputs": [],
   "source": []
  },
  {
   "cell_type": "code",
   "execution_count": null,
   "id": "89f028bc",
   "metadata": {},
   "outputs": [],
   "source": []
  },
  {
   "cell_type": "code",
   "execution_count": null,
   "id": "530a9ce4",
   "metadata": {},
   "outputs": [],
   "source": []
  }
 ],
 "metadata": {
  "kernelspec": {
   "display_name": "Python 3",
   "language": "python",
   "name": "python3"
  },
  "language_info": {
   "codemirror_mode": {
    "name": "ipython",
    "version": 3
   },
   "file_extension": ".py",
   "mimetype": "text/x-python",
   "name": "python",
   "nbconvert_exporter": "python",
   "pygments_lexer": "ipython3",
   "version": "3.8.8"
  }
 },
 "nbformat": 4,
 "nbformat_minor": 5
}
