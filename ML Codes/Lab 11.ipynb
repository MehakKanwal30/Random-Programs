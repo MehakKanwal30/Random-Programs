{
 "cells": [
  {
   "cell_type": "code",
   "execution_count": 290,
   "id": "d84817f9",
   "metadata": {},
   "outputs": [],
   "source": [
    "import random\n",
    "import numpy as np\n",
    "import pandas as pd\n",
    "from sklearn.datasets import make_blobs\n",
    "import matplotlib.pyplot as plt"
   ]
  },
  {
   "cell_type": "code",
   "execution_count": 305,
   "id": "d7df7c64",
   "metadata": {},
   "outputs": [
    {
     "data": {
      "text/plain": [
       "'/Users/student/2020231'"
      ]
     },
     "execution_count": 305,
     "metadata": {},
     "output_type": "execute_result"
    }
   ],
   "source": [
    "pwd"
   ]
  },
  {
   "cell_type": "code",
   "execution_count": null,
   "id": "f21f7eca",
   "metadata": {},
   "outputs": [],
   "source": []
  },
  {
   "cell_type": "code",
   "execution_count": null,
   "id": "d4b98bc9",
   "metadata": {},
   "outputs": [],
   "source": []
  },
  {
   "cell_type": "code",
   "execution_count": null,
   "id": "d8bbcc6f",
   "metadata": {},
   "outputs": [],
   "source": []
  },
  {
   "cell_type": "code",
   "execution_count": 291,
   "id": "c4f2c52d",
   "metadata": {},
   "outputs": [],
   "source": [
    "lenght = 20\n",
    "x = [random.randint(1, 500) for i in range(lenght)]\n",
    "y = [random.randint(1, 500) for i in range(lenght)]"
   ]
  },
  {
   "cell_type": "code",
   "execution_count": 292,
   "id": "e8cc9b5e",
   "metadata": {},
   "outputs": [],
   "source": [
    "while 1:\n",
    "    a = random.randint(0,lenght-1)\n",
    "    c1 =  [x[a], y[a]]\n",
    "    b = random.randint(0,lenght-1)\n",
    "    c2 =  [x[b], y[b]]\n",
    "    \n",
    "    if c1 != c2:\n",
    "        break"
   ]
  },
  {
   "cell_type": "code",
   "execution_count": 293,
   "id": "748f0da8",
   "metadata": {},
   "outputs": [
    {
     "name": "stdout",
     "output_type": "stream",
     "text": [
      "[302, 54]\n",
      "[123, 368]\n"
     ]
    }
   ],
   "source": [
    "print(c1)\n",
    "print(c2)"
   ]
  },
  {
   "cell_type": "code",
   "execution_count": 294,
   "id": "65aad0b4",
   "metadata": {},
   "outputs": [
    {
     "name": "stdout",
     "output_type": "stream",
     "text": [
      "[116, 341, 216, 245, 189, 302, 475, 303, 340, 187, 299, 141, 2, 123, 82, 281, 56, 68, 493, 329]\n",
      "[426, 168, 380, 170, 45, 54, 304, 138, 100, 349, 453, 345, 53, 368, 479, 417, 59, 141, 261, 61]\n"
     ]
    }
   ],
   "source": [
    "print(x)\n",
    "print(y)"
   ]
  },
  {
   "cell_type": "code",
   "execution_count": 301,
   "id": "61c4903e",
   "metadata": {},
   "outputs": [],
   "source": [
    "cluster1 = []\n",
    "cluster2 = []\n",
    "for i in range(lenght):   \n",
    "    f1 = (((c1[0] - x[i])**2 + (c1[1] - y[i])**2) * 0.5)\n",
    "    f2 = (((c2[0] - x[i])**2 + (c2[1] - y[i])**2) * 0.5)\n",
    "\n",
    "    if f1 < f2:\n",
    "        cluster1.append([x[i], y[i]])\n",
    "        c1[0] = (c1[0] + x[i])/2 \n",
    "        c1[1] = (c1[1] + y[i])/2\n",
    "    elif f2 < f1:\n",
    "        cluster2.append([x[i], y[i]])\n",
    "        c2[0] = (c2[0] + x[i])/2 \n",
    "        c2[1] = (c2[1] + y[i])/2"
   ]
  },
  {
   "cell_type": "code",
   "execution_count": 302,
   "id": "30b43c5c",
   "metadata": {},
   "outputs": [],
   "source": [
    "cluster1 = np.array(cluster1)\n",
    "cluster2 = np.array(cluster2)"
   ]
  },
  {
   "cell_type": "code",
   "execution_count": 303,
   "id": "6dd4013c",
   "metadata": {},
   "outputs": [
    {
     "data": {
      "image/png": "[encoded data removed]",
      "text/plain": [
       "<Figure size 640x480 with 1 Axes>"
      ]
     },
     "metadata": {},
     "output_type": "display_data"
    }
   ],
   "source": [
    "plt.scatter(cluster1[:,0], cluster1[:,1], color=\"red\")\n",
    "plt.scatter(cluster2[:,0], cluster2[:,1], color=\"blue\")\n",
    "\n",
    "plt.scatter(c1[0], c1[1], color=\"red\", marker=\"x\")\n",
    "plt.scatter(c2[0], c2[0], color=\"blue\", marker=\"x\")\n",
    "\n",
    "plt.show()"
   ]
  }
 ],
 "metadata": {
  "kernelspec": {
   "display_name": "Python 3 (ipykernel)",
   "language": "python",
   "name": "python3"
  },
  "language_info": {
   "codemirror_mode": {
    "name": "ipython",
    "version": 3
   },
   "file_extension": ".py",
   "mimetype": "text/x-python",
   "name": "python",
   "nbconvert_exporter": "python",
   "pygments_lexer": "ipython3",
   "version": "3.8.12"
  }
 },
 "nbformat": 4,
 "nbformat_minor": 5
}
