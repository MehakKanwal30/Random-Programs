{
 "cells": [
  {
   "cell_type": "code",
   "execution_count": 51,
   "id": "610de87e",
   "metadata": {},
   "outputs": [],
   "source": [
    "import numpy as np\n",
    "import pandas as pd\n",
    "from sklearn.linear_model import LinearRegression\n",
    "from sklearn.preprocessing import LabelEncoder\n",
    "from sklearn.model_selection import train_test_split\n",
    "from sklearn.metrics import confusion_matrix,classification_report\n",
    "from sklearn.model_selection import cross_val_score\n",
    "from sklearn.model_selection import KFold\n",
    "\n",
    "import matplotlib.pyplot as plt"
   ]
  },
  {
   "cell_type": "code",
   "execution_count": 52,
   "id": "dc603189",
   "metadata": {},
   "outputs": [],
   "source": [
    "df = pd.read_csv('Real-estate.csv')\n",
    "\n",
    "# Multiple X values\n",
    "X = df[df.columns[:-1]]\n",
    "y = df[df.columns[-1]]"
   ]
  },
  {
   "cell_type": "code",
   "execution_count": 53,
   "id": "d8c84a15",
   "metadata": {},
   "outputs": [],
   "source": [
    "x_train, x_test, y_train, y_test = train_test_split(X, y, test_size=0.2)"
   ]
  },
  {
   "cell_type": "code",
   "execution_count": 54,
   "id": "37435b09",
   "metadata": {},
   "outputs": [],
   "source": [
    "clf = LinearRegression()\n",
    "clf.fit(x_train, y_train)\n",
    "y_pred = clf.predict(x_test)"
   ]
  },
  {
   "cell_type": "code",
   "execution_count": 55,
   "id": "e5c516f1",
   "metadata": {},
   "outputs": [
    {
     "name": "stdout",
     "output_type": "stream",
     "text": [
      "Accuracy:  49.731485558267174\n"
     ]
    }
   ],
   "source": [
    "accuracy = clf.score(x_test, y_test)\n",
    "print(\"Accuracy: \", accuracy*100)"
   ]
  },
  {
   "cell_type": "code",
   "execution_count": 56,
   "id": "f923f251",
   "metadata": {},
   "outputs": [
    {
     "name": "stdout",
     "output_type": "stream",
     "text": [
      "0.6178\n",
      "0.5926\n",
      "0.5388\n"
     ]
    }
   ],
   "source": [
    "cross_val = cross_val_score(clf, x_train, y_train, cv=3)\n",
    "for val in cross_val:\n",
    "    print(round(val,4))"
   ]
  },
  {
   "cell_type": "code",
   "execution_count": 57,
   "id": "1159d335",
   "metadata": {},
   "outputs": [
    {
     "name": "stdout",
     "output_type": "stream",
     "text": [
      "0.5957\n",
      "0.7718\n",
      "0.7793\n",
      "0.6886\n",
      "0.2574\n"
     ]
    }
   ],
   "source": [
    "# K-folds\n",
    "folds = KFold(n_splits = 5, shuffle = True, random_state = 100)\n",
    "cross_val = cross_val_score(clf, x_train, y_train, cv=folds)\n",
    "for val in cross_val:\n",
    "    print(round(val,4))"
   ]
  }
 ],
 "metadata": {
  "kernelspec": {
   "display_name": "Python 3 (ipykernel)",
   "language": "python",
   "name": "python3"
  },
  "language_info": {
   "codemirror_mode": {
    "name": "ipython",
    "version": 3
   },
   "file_extension": ".py",
   "mimetype": "text/x-python",
   "name": "python",
   "nbconvert_exporter": "python",
   "pygments_lexer": "ipython3",
   "version": "3.9.7"
  }
 },
 "nbformat": 4,
 "nbformat_minor": 5
}
