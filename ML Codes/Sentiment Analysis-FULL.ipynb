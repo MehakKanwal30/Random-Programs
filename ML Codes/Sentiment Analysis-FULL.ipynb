{
 "cells": [
  {
   "cell_type": "code",
   "execution_count": 1,
   "metadata": {},
   "outputs": [],
   "source": [
    "import pandas as pd\n",
    "import numpy as np\n",
    "import re\n",
    "from nltk.corpus import stopwords\n",
    "from nltk.tokenize import word_tokenize\n",
    "from sklearn.metrics import accuracy_score,f1_score\n",
    "from sklearn.feature_extraction.text import CountVectorizer\n",
    "from sklearn.tree import DecisionTreeClassifier\n",
    "from sklearn.metrics import confusion_matrix\n",
    "from sklearn.metrics import classification_report"
   ]
  },
  {
   "cell_type": "code",
   "execution_count": 2,
   "metadata": {},
   "outputs": [],
   "source": [
    "def clean_review(review):\n",
    "    '''Clean the text, with the option to remove stopwords'''\n",
    "    \n",
    "    # Convert words to lower case and split them\n",
    "    review = review.lower()\n",
    "    # Clean the text\n",
    "    review = re.sub(r\"<br />\", \" \", review)\n",
    "    review = re.sub(r\"[^a-z]\", \" \", review)\n",
    "    review = re.sub(r\"   \", \" \", review) # Remove any extra spaces\n",
    "    review = re.sub(r\"  \", \" \", review)\n",
    "    #remove stopwords\n",
    "    tokenized = word_tokenize(review)\n",
    "    review = [w for w in tokenized if not w in stop_words]\n",
    "    review = \" \".join(review)\n",
    "\n",
    "    # Return a list of words\n",
    "    return(review)\n",
    "\n",
    "\n",
    "def clean_data(train_reviews,test_reviews) :\n",
    "    '''Input - train and test reviews\n",
    "    Output - cleaned train and test reviews'''\n",
    "    #start code here\n",
    "    train_reviews_list =[]\n",
    "    test_reviews_list = []\n",
    "    \n",
    "    for t_re in train_reviews:\n",
    "        train_reviews_list.append(clean_review(t_re))\n",
    "        \n",
    "    for te_re in test_reviews:\n",
    "        test_reviews_list.append(clean_review(te_re))\n",
    "    \n",
    "    return train_reviews_list,test_reviews_list\n",
    "    #end code here\n",
    "    \n",
    "def create_bag_words(train_reviews,test_reviews) :\n",
    "    '''Input - train and test reviews\n",
    "    Output - the trained vectorizer and train and test feature matrix'''\n",
    "    #start code here\n",
    "    vectorizer = CountVectorizer()\n",
    "    \n",
    "    vectorizer.fit(train_reviews)\n",
    "    \n",
    "    tr = vectorizer.transform(train_reviews)\n",
    "    te = vectorizer.transform(test_reviews)\n",
    "\n",
    "    return vectorizer,tr.toarray(),te.toarray()\n",
    "    \n",
    "    #end code here"
   ]
  },
  {
   "cell_type": "code",
   "execution_count": 3,
   "metadata": {},
   "outputs": [],
   "source": [
    "stop_words = stopwords.words(\"english\")\n",
    "stop_words = set(stop_words)"
   ]
  },
  {
   "cell_type": "code",
   "execution_count": 4,
   "metadata": {},
   "outputs": [
    {
     "name": "stdout",
     "output_type": "stream",
     "text": [
      "[[347 153]\n",
      " [131 369]]\n",
      "              precision    recall  f1-score   support\n",
      "\n",
      "           0       0.73      0.69      0.71       500\n",
      "           1       0.71      0.74      0.72       500\n",
      "\n",
      "    accuracy                           0.72      1000\n",
      "   macro avg       0.72      0.72      0.72      1000\n",
      "weighted avg       0.72      0.72      0.72      1000\n",
      "\n"
     ]
    }
   ],
   "source": [
    "train = pd.read_csv('trainn.csv')\n",
    "test = pd.read_csv('testt.csv')\n",
    "\n",
    "train_reviews = list(train.review)\n",
    "test_reviews = list(test.review)\n",
    "\n",
    "y_train = train['label']\n",
    "y_test = test.label\n",
    "\n",
    "\n",
    "train_reviews,test_reviews = clean_data(train_reviews,test_reviews)\n",
    "\n",
    "vectorizer,X_train,X_test = create_bag_words(train_reviews,test_reviews)\n",
    "\n",
    "\n",
    "model = DecisionTreeClassifier(criterion = \"entropy\", random_state=13)\n",
    "model = model.fit(X_train, y_train)\n",
    "\n",
    "y_pred = model.predict(X_test)\n",
    "\n",
    "test_accuracy = accuracy_score(y_test, y_pred)\n",
    "\n",
    "conf = confusion_matrix(y_test, y_pred)\n",
    "print(conf)\n",
    "print(classification_report(y_test, y_pred))"
   ]
  },
  {
   "cell_type": "code",
   "execution_count": null,
   "metadata": {},
   "outputs": [],
   "source": []
  },
  {
   "cell_type": "code",
   "execution_count": null,
   "metadata": {},
   "outputs": [],
   "source": []
  },
  {
   "cell_type": "code",
   "execution_count": null,
   "metadata": {},
   "outputs": [],
   "source": []
  },
  {
   "cell_type": "code",
   "execution_count": 23,
   "metadata": {},
   "outputs": [],
   "source": []
  },
  {
   "cell_type": "code",
   "execution_count": 36,
   "metadata": {},
   "outputs": [],
   "source": []
  },
  {
   "cell_type": "code",
   "execution_count": null,
   "metadata": {},
   "outputs": [],
   "source": []
  },
  {
   "cell_type": "code",
   "execution_count": 42,
   "metadata": {},
   "outputs": [],
   "source": []
  }
 ],
 "metadata": {
  "kernelspec": {
   "display_name": "Python 3 (ipykernel)",
   "language": "python",
   "name": "python3"
  },
  "language_info": {
   "codemirror_mode": {
    "name": "ipython",
    "version": 3
   },
   "file_extension": ".py",
   "mimetype": "text/x-python",
   "name": "python",
   "nbconvert_exporter": "python",
   "pygments_lexer": "ipython3",
   "version": "3.9.7"
  }
 },
 "nbformat": 4,
 "nbformat_minor": 4
}
