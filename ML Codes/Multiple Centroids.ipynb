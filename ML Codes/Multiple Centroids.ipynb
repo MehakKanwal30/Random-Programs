{
 "cells": [
  {
   "cell_type": "code",
   "execution_count": 1,
   "id": "7a434bd0",
   "metadata": {},
   "outputs": [],
   "source": [
    "import random\n",
    "import numpy as np\n",
    "import pandas as pd\n",
    "from sklearn.datasets import make_blobs\n",
    "import matplotlib.pyplot as plt"
   ]
  },
  {
   "cell_type": "code",
   "execution_count": 65,
   "id": "d95a3caf",
   "metadata": {},
   "outputs": [],
   "source": [
    "lenght = 100\n",
    "no_clusters = 4\n",
    "x = [random.randint(1, 500) for i in range(lenght)]\n",
    "y = [random.randint(1, 500) for i in range(lenght)]"
   ]
  },
  {
   "cell_type": "code",
   "execution_count": 66,
   "id": "286d51bf",
   "metadata": {},
   "outputs": [],
   "source": [
    "c = []\n",
    "\n",
    "for i in range(no_clusters):\n",
    "    a = random.randint(0,lenght-1)\n",
    "    c.append([x[a], y[a]])"
   ]
  },
  {
   "cell_type": "code",
   "execution_count": 67,
   "id": "6da54dda",
   "metadata": {},
   "outputs": [
    {
     "name": "stdout",
     "output_type": "stream",
     "text": [
      "[[64, 362], [269, 73], [417, 24], [74, 85]]\n"
     ]
    }
   ],
   "source": [
    "print(c)"
   ]
  },
  {
   "cell_type": "code",
   "execution_count": 68,
   "id": "9eef1314",
   "metadata": {},
   "outputs": [
    {
     "name": "stdout",
     "output_type": "stream",
     "text": [
      "[246, 249, 146, 20, 375, 361, 488, 74, 96, 213, 163, 163, 402, 357, 176, 199, 357, 241, 129, 284, 82, 269, 371, 244, 273, 326, 165, 395, 428, 359, 61, 176, 83, 132, 253, 80, 177, 422, 448, 27, 318, 104, 353, 226, 288, 16, 182, 340, 468, 50, 64, 44, 417, 184, 454, 301, 174, 492, 459, 428, 171, 51, 81, 498, 144, 279, 283, 280, 296, 159, 253, 99, 323, 156, 246, 181, 464, 120, 397, 488, 118, 30, 13, 448, 381, 77, 140, 128, 9, 213, 355, 404, 260, 103, 237, 448, 115, 476, 235, 424]\n",
      "[447, 134, 9, 116, 57, 50, 14, 85, 181, 284, 60, 253, 5, 386, 204, 470, 52, 456, 31, 8, 30, 73, 55, 367, 367, 252, 185, 276, 401, 354, 59, 178, 325, 52, 499, 466, 43, 60, 410, 150, 255, 274, 209, 338, 356, 257, 106, 211, 404, 150, 362, 465, 24, 230, 52, 176, 383, 127, 248, 402, 390, 410, 461, 482, 366, 183, 31, 136, 113, 469, 21, 324, 173, 217, 46, 197, 23, 408, 311, 158, 123, 262, 21, 224, 162, 261, 360, 93, 57, 17, 201, 473, 71, 260, 481, 489, 143, 13, 390, 348]\n"
     ]
    }
   ],
   "source": [
    "print(x)\n",
    "print(y)"
   ]
  },
  {
   "cell_type": "code",
   "execution_count": 69,
   "id": "cfc60742",
   "metadata": {},
   "outputs": [],
   "source": [
    "def min_index(arr):\n",
    "    minimum = min(arr)\n",
    "    minimum_index = arr.index(minimum)\n",
    "    return minimum_index"
   ]
  },
  {
   "cell_type": "code",
   "execution_count": 70,
   "id": "adcf1420",
   "metadata": {},
   "outputs": [
    {
     "name": "stderr",
     "output_type": "stream",
     "text": [
      "/var/folders/p9/0lfjtwb95hjc0bf9c25kg8x80000gn/T/ipykernel_4891/4252826869.py:16: VisibleDeprecationWarning: Creating an ndarray from ragged nested sequences (which is a list-or-tuple of lists-or-tuples-or ndarrays with different lengths or shapes) is deprecated. If you meant to do this, you must specify 'dtype=object' when creating the ndarray.\n",
      "  cluster = np.array(cluster)\n"
     ]
    }
   ],
   "source": [
    "cluster = []\n",
    "for i in range(no_clusters):\n",
    "    cluster.append([])\n",
    "    \n",
    "for i in range(lenght):\n",
    "    f = []\n",
    "    for j in range(no_clusters):\n",
    "        f.append(((c[j][0] - x[i])**2 + (c[j][1] - y[i])**2) * 0.5)\n",
    "\n",
    "    minimum = min_index(f)\n",
    "    \n",
    "    cluster[minimum].append([x[i], y[i]])\n",
    "    c[minimum][0] = (c[minimum][0] + x[i])/2 \n",
    "    c[minimum][1] = (c[minimum][1] + y[i])/2\n",
    "\n",
    "cluster = np.array(cluster)\n",
    "for i in range(no_clusters):\n",
    "    cluster[i] = np.array(cluster[i])"
   ]
  },
  {
   "cell_type": "code",
   "execution_count": 71,
   "id": "038ea732",
   "metadata": {},
   "outputs": [
    {
     "data": {
      "image/png": "[encoded data removed]",
      "text/plain": [
       "<Figure size 640x480 with 1 Axes>"
      ]
     },
     "metadata": {},
     "output_type": "display_data"
    }
   ],
   "source": [
    "colours = [\"red\", \"blue\", \"yellow\", \"green\", \"orange\", \"purple\"]\n",
    "for i in range(no_clusters):\n",
    "    plt.scatter(cluster[i][:,0], cluster[i][:,1], color=colours[i])\n",
    "        \n",
    "    plt.scatter(c[i][0], c[i][1], color=colours[i], marker=\"x\")\n",
    "\n",
    "plt.show()"
   ]
  },
  {
   "cell_type": "code",
   "execution_count": null,
   "id": "753cce68",
   "metadata": {},
   "outputs": [],
   "source": []
  },
  {
   "cell_type": "code",
   "execution_count": null,
   "id": "a1d0ddf2",
   "metadata": {},
   "outputs": [],
   "source": []
  }
 ],
 "metadata": {
  "kernelspec": {
   "display_name": "Python 3 (ipykernel)",
   "language": "python",
   "name": "python3"
  },
  "language_info": {
   "codemirror_mode": {
    "name": "ipython",
    "version": 3
   },
   "file_extension": ".py",
   "mimetype": "text/x-python",
   "name": "python",
   "nbconvert_exporter": "python",
   "pygments_lexer": "ipython3",
   "version": "3.8.12"
  }
 },
 "nbformat": 4,
 "nbformat_minor": 5
}
