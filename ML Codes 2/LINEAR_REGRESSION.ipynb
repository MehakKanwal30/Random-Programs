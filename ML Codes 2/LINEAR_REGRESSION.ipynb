{
 "cells": [
  {
   "cell_type": "code",
   "execution_count": 1,
   "id": "9ff046df",
   "metadata": {},
   "outputs": [],
   "source": [
    "import random as rand\n",
    "import numpy as np\n",
    "from matplotlib import pyplot as plt"
   ]
  },
  {
   "cell_type": "code",
   "execution_count": 34,
   "id": "1741ed75",
   "metadata": {},
   "outputs": [],
   "source": [
    "#CHANGE Noise to check how poits effects the error and slope of line\n",
    "Noise = 300\n",
    "\n",
    "#CHANGE points to increase the sample set of data\n",
    "points = 6"
   ]
  },
  {
   "cell_type": "markdown",
   "id": "36e9c748",
   "metadata": {},
   "source": [
    "# GETTING RANDOM DATA FOR (X, Y):"
   ]
  },
  {
   "cell_type": "code",
   "execution_count": 35,
   "id": "ad781768",
   "metadata": {},
   "outputs": [],
   "source": [
    "X = np.array([i*10 + rand.randint(0, Noise) for i in range(points)])\n",
    "Y = np.array([i*10 + rand.randint(0, Noise) for i in range(points)])"
   ]
  },
  {
   "cell_type": "markdown",
   "id": "c07a7b50",
   "metadata": {},
   "source": [
    "# CALCULATING M and C in ---> y = Mx + c"
   ]
  },
  {
   "cell_type": "code",
   "execution_count": 36,
   "id": "e406cee5",
   "metadata": {},
   "outputs": [
    {
     "data": {
      "text/plain": [
       "-0.005085698229839836"
      ]
     },
     "execution_count": 36,
     "metadata": {},
     "output_type": "execute_result"
    }
   ],
   "source": [
    "M = (sum((X - np.mean(X))*(Y - np.mean(Y))) / (sum((X - np.mean(X))**2)))\n",
    "M"
   ]
  },
  {
   "cell_type": "code",
   "execution_count": 29,
   "id": "acae896e",
   "metadata": {},
   "outputs": [
    {
     "data": {
      "text/plain": [
       "100.48142379793916"
      ]
     },
     "execution_count": 29,
     "metadata": {},
     "output_type": "execute_result"
    }
   ],
   "source": [
    "C = np.mean(Y) - M * np.mean(X)\n",
    "C"
   ]
  },
  {
   "cell_type": "markdown",
   "id": "aaa2ce6e",
   "metadata": {},
   "source": [
    "# PREDICT VALUE OF ŷ"
   ]
  },
  {
   "cell_type": "code",
   "execution_count": 30,
   "id": "771fb2af",
   "metadata": {},
   "outputs": [],
   "source": [
    "ŷ = [M*x + C for x in X]"
   ]
  },
  {
   "cell_type": "code",
   "execution_count": 31,
   "id": "7145eb63",
   "metadata": {},
   "outputs": [
    {
     "data": {
      "text/plain": [
       "0.7062753211764365"
      ]
     },
     "execution_count": 31,
     "metadata": {},
     "output_type": "execute_result"
    }
   ],
   "source": [
    "MSE = (sum((ŷ - np.mean(Y))**2)) / (sum((Y - np.mean(Y))**2))\n",
    "MSE"
   ]
  },
  {
   "cell_type": "code",
   "execution_count": 32,
   "id": "124ff90c",
   "metadata": {},
   "outputs": [
    {
     "data": {
      "text/plain": [
       "112.86227890563148"
      ]
     },
     "execution_count": 32,
     "metadata": {},
     "output_type": "execute_result"
    }
   ],
   "source": [
    "StE = ( (sum((ŷ - Y)**2)) / (len(X)-2) ) **0.5\n",
    "StE"
   ]
  },
  {
   "cell_type": "code",
   "execution_count": 33,
   "id": "8a7d687c",
   "metadata": {},
   "outputs": [
    {
     "data": {
      "image/png": "[encoded data removed]",
      "text/plain": [
       "<Figure size 432x288 with 1 Axes>"
      ]
     },
     "metadata": {
      "needs_background": "light"
     },
     "output_type": "display_data"
    }
   ],
   "source": [
    "plt.scatter(X, Y, color = \"red\")\n",
    "plt.plot(X,ŷ, color = \"black\")\n",
    "plt.xlabel('x - axis')\n",
    "plt.ylabel('y - axis')\n",
    "plt.title(f'LINEAR REGRESSION\\nMSE: {round(MSE, 3)}')\n",
    "plt.show()"
   ]
  },
  {
   "cell_type": "code",
   "execution_count": null,
   "id": "dc1e8e54",
   "metadata": {},
   "outputs": [],
   "source": []
  }
 ],
 "metadata": {
  "kernelspec": {
   "display_name": "Python 3 (ipykernel)",
   "language": "python",
   "name": "python3"
  },
  "language_info": {
   "codemirror_mode": {
    "name": "ipython",
    "version": 3
   },
   "file_extension": ".py",
   "mimetype": "text/x-python",
   "name": "python",
   "nbconvert_exporter": "python",
   "pygments_lexer": "ipython3",
   "version": "3.8.12"
  }
 },
 "nbformat": 4,
 "nbformat_minor": 5
}
