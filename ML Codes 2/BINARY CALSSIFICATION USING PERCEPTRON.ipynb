{
 "cells": [
  {
   "cell_type": "code",
   "execution_count": 1,
   "id": "46fbc728",
   "metadata": {},
   "outputs": [],
   "source": [
    "import pandas as pd\n",
    "import numpy as np\n",
    "from sklearn.metrics import accuracy_score\n",
    "from sklearn.metrics import confusion_matrix\n",
    "from sklearn.model_selection import train_test_split"
   ]
  },
  {
   "cell_type": "code",
   "execution_count": 2,
   "id": "ed940ae4",
   "metadata": {},
   "outputs": [],
   "source": [
    "df = pd.read_csv(\"NUMBERS.csv\");\n",
    "df = df[(df[\"label\"] == 0) | (df[\"label\"] == 1)]"
   ]
  },
  {
   "cell_type": "code",
   "execution_count": 3,
   "id": "67bc5f09",
   "metadata": {},
   "outputs": [],
   "source": [
    "Y = df[\"label\"]\n",
    "X = df.drop(\"label\", axis=1)"
   ]
  },
  {
   "cell_type": "code",
   "execution_count": 12,
   "id": "ecbfc85f",
   "metadata": {},
   "outputs": [],
   "source": [
    "x_train, x_test, y_train, y_test = train_test_split(X, Y, shuffle=True, test_size=0.01)\n",
    "x_test = x_test.to_numpy()\n",
    "x_train = x_train.to_numpy()\n",
    "y_train = y_train.to_numpy()\n",
    "y_test = y_test.to_numpy()"
   ]
  },
  {
   "cell_type": "code",
   "execution_count": 13,
   "id": "5ecc0a94",
   "metadata": {},
   "outputs": [
    {
     "name": "stdout",
     "output_type": "stream",
     "text": [
      "1. for this iteration we have shifted avg.change in w = -1886.016581632653, change in b = -98.\n",
      "2. for this iteration we have shifted avg.change in w = 5203.570153061224, change in b = 113.\n",
      "3. for this iteration we have shifted avg.change in w = -144.70408163265307, change in b = -6.\n",
      "4. for this iteration we have shifted avg.change in w = -27.367346938775512, change in b = -1.\n",
      "5. for this iteration we have shifted avg.change in w = -27.367346938775512, change in b = -1.\n",
      "6. for this iteration we have shifted avg.change in w = -27.367346938775512, change in b = -1.\n",
      "7. for this iteration we have shifted avg.change in w = -27.367346938775512, change in b = -1.\n",
      "8. for this iteration we have shifted avg.change in w = -27.367346938775512, change in b = -1.\n",
      "9. for this iteration we have shifted avg.change in w = 0.0, change in b = 0.\n",
      "10. for this iteration we have shifted avg.change in w = 0.0, change in b = 0.\n",
      "11. for this iteration we have shifted avg.change in w = 0.0, change in b = 0.\n",
      "12. for this iteration we have shifted avg.change in w = 0.0, change in b = 0.\n",
      "13. for this iteration we have shifted avg.change in w = 0.0, change in b = 0.\n",
      "14. for this iteration we have shifted avg.change in w = 0.0, change in b = 0.\n",
      "15. for this iteration we have shifted avg.change in w = 0.0, change in b = 0.\n",
      "16. for this iteration we have shifted avg.change in w = 0.0, change in b = 0.\n",
      "17. for this iteration we have shifted avg.change in w = 0.0, change in b = 0.\n",
      "18. for this iteration we have shifted avg.change in w = 0.0, change in b = 0.\n",
      "19. for this iteration we have shifted avg.change in w = 0.0, change in b = 0.\n",
      "20. for this iteration we have shifted avg.change in w = 0.0, change in b = 0.\n",
      "21. for this iteration we have shifted avg.change in w = 0.0, change in b = 0.\n",
      "22. for this iteration we have shifted avg.change in w = 0.0, change in b = 0.\n",
      "23. for this iteration we have shifted avg.change in w = 0.0, change in b = 0.\n",
      "24. for this iteration we have shifted avg.change in w = 0.0, change in b = 0.\n",
      "25. for this iteration we have shifted avg.change in w = 0.0, change in b = 0.\n",
      "26. for this iteration we have shifted avg.change in w = 0.0, change in b = 0.\n",
      "27. for this iteration we have shifted avg.change in w = 0.0, change in b = 0.\n",
      "28. for this iteration we have shifted avg.change in w = 0.0, change in b = 0.\n",
      "29. for this iteration we have shifted avg.change in w = 0.0, change in b = 0.\n",
      "30. for this iteration we have shifted avg.change in w = 0.0, change in b = 0.\n",
      "31. for this iteration we have shifted avg.change in w = 0.0, change in b = 0.\n",
      "32. for this iteration we have shifted avg.change in w = 0.0, change in b = 0.\n",
      "33. for this iteration we have shifted avg.change in w = 0.0, change in b = 0.\n",
      "34. for this iteration we have shifted avg.change in w = 0.0, change in b = 0.\n",
      "35. for this iteration we have shifted avg.change in w = 0.0, change in b = 0.\n",
      "36. for this iteration we have shifted avg.change in w = 0.0, change in b = 0.\n",
      "37. for this iteration we have shifted avg.change in w = 0.0, change in b = 0.\n",
      "38. for this iteration we have shifted avg.change in w = 0.0, change in b = 0.\n",
      "39. for this iteration we have shifted avg.change in w = 0.0, change in b = 0.\n",
      "40. for this iteration we have shifted avg.change in w = 0.0, change in b = 0.\n",
      "41. for this iteration we have shifted avg.change in w = 0.0, change in b = 0.\n",
      "42. for this iteration we have shifted avg.change in w = 0.0, change in b = 0.\n",
      "43. for this iteration we have shifted avg.change in w = 0.0, change in b = 0.\n",
      "44. for this iteration we have shifted avg.change in w = 0.0, change in b = 0.\n",
      "45. for this iteration we have shifted avg.change in w = 0.0, change in b = 0.\n",
      "46. for this iteration we have shifted avg.change in w = 0.0, change in b = 0.\n",
      "47. for this iteration we have shifted avg.change in w = 0.0, change in b = 0.\n",
      "48. for this iteration we have shifted avg.change in w = 0.0, change in b = 0.\n",
      "49. for this iteration we have shifted avg.change in w = 0.0, change in b = 0.\n",
      "50. for this iteration we have shifted avg.change in w = 0.0, change in b = 0.\n",
      "51. for this iteration we have shifted avg.change in w = 0.0, change in b = 0.\n",
      "52. for this iteration we have shifted avg.change in w = 0.0, change in b = 0.\n",
      "53. for this iteration we have shifted avg.change in w = 0.0, change in b = 0.\n",
      "54. for this iteration we have shifted avg.change in w = 0.0, change in b = 0.\n",
      "55. for this iteration we have shifted avg.change in w = 0.0, change in b = 0.\n",
      "56. for this iteration we have shifted avg.change in w = 0.0, change in b = 0.\n",
      "57. for this iteration we have shifted avg.change in w = 0.0, change in b = 0.\n",
      "58. for this iteration we have shifted avg.change in w = 0.0, change in b = 0.\n",
      "59. for this iteration we have shifted avg.change in w = 0.0, change in b = 0.\n",
      "60. for this iteration we have shifted avg.change in w = 0.0, change in b = 0.\n",
      "61. for this iteration we have shifted avg.change in w = 0.0, change in b = 0.\n",
      "62. for this iteration we have shifted avg.change in w = 0.0, change in b = 0.\n",
      "63. for this iteration we have shifted avg.change in w = 0.0, change in b = 0.\n",
      "64. for this iteration we have shifted avg.change in w = 0.0, change in b = 0.\n",
      "65. for this iteration we have shifted avg.change in w = 0.0, change in b = 0.\n",
      "66. for this iteration we have shifted avg.change in w = 0.0, change in b = 0.\n",
      "67. for this iteration we have shifted avg.change in w = 0.0, change in b = 0.\n",
      "68. for this iteration we have shifted avg.change in w = 0.0, change in b = 0.\n",
      "69. for this iteration we have shifted avg.change in w = 0.0, change in b = 0.\n",
      "70. for this iteration we have shifted avg.change in w = 0.0, change in b = 0.\n",
      "71. for this iteration we have shifted avg.change in w = 0.0, change in b = 0.\n",
      "72. for this iteration we have shifted avg.change in w = 0.0, change in b = 0.\n",
      "73. for this iteration we have shifted avg.change in w = 0.0, change in b = 0.\n",
      "74. for this iteration we have shifted avg.change in w = 0.0, change in b = 0.\n",
      "75. for this iteration we have shifted avg.change in w = 0.0, change in b = 0.\n",
      "76. for this iteration we have shifted avg.change in w = 0.0, change in b = 0.\n",
      "77. for this iteration we have shifted avg.change in w = 0.0, change in b = 0.\n",
      "78. for this iteration we have shifted avg.change in w = 0.0, change in b = 0.\n",
      "79. for this iteration we have shifted avg.change in w = 0.0, change in b = 0.\n",
      "80. for this iteration we have shifted avg.change in w = 0.0, change in b = 0.\n",
      "81. for this iteration we have shifted avg.change in w = 0.0, change in b = 0.\n",
      "82. for this iteration we have shifted avg.change in w = 0.0, change in b = 0.\n",
      "83. for this iteration we have shifted avg.change in w = 0.0, change in b = 0.\n",
      "84. for this iteration we have shifted avg.change in w = 0.0, change in b = 0.\n",
      "85. for this iteration we have shifted avg.change in w = 0.0, change in b = 0.\n",
      "86. for this iteration we have shifted avg.change in w = 0.0, change in b = 0.\n",
      "87. for this iteration we have shifted avg.change in w = 0.0, change in b = 0.\n",
      "88. for this iteration we have shifted avg.change in w = 0.0, change in b = 0.\n",
      "89. for this iteration we have shifted avg.change in w = 0.0, change in b = 0.\n",
      "90. for this iteration we have shifted avg.change in w = 0.0, change in b = 0.\n",
      "91. for this iteration we have shifted avg.change in w = 0.0, change in b = 0.\n",
      "92. for this iteration we have shifted avg.change in w = 0.0, change in b = 0.\n",
      "93. for this iteration we have shifted avg.change in w = 0.0, change in b = 0.\n",
      "94. for this iteration we have shifted avg.change in w = 0.0, change in b = 0.\n",
      "95. for this iteration we have shifted avg.change in w = 0.0, change in b = 0.\n",
      "96. for this iteration we have shifted avg.change in w = 0.0, change in b = 0.\n",
      "97. for this iteration we have shifted avg.change in w = 0.0, change in b = 0.\n",
      "98. for this iteration we have shifted avg.change in w = 0.0, change in b = 0.\n",
      "99. for this iteration we have shifted avg.change in w = 0.0, change in b = 0.\n",
      "100. for this iteration we have shifted avg.change in w = 0.0, change in b = 0.\n"
     ]
    }
   ],
   "source": [
    "w = np.zeros(x_train.shape[1])\n",
    "b = 0\n",
    "lr = 0.00001\n",
    "for epoch in range(100):\n",
    "    ŷ = np.array([1 if (np.dot(w, x_train[i]) + b)>=0.5 else 0 for i in range(x_train.shape[0])])\n",
    "    dw = np.dot(x_train.T, (ŷ - y_train).T)\n",
    "    db = sum(ŷ - y_train)\n",
    "    \n",
    "    w = w - lr * dw\n",
    "    b = b - lr * db\n",
    "    \n",
    "    print(f\"{epoch+1}. for this iteration we have shifted avg.change in w = {np.mean(dw)}, change in b = {db}.\")"
   ]
  },
  {
   "cell_type": "markdown",
   "id": "863512d3",
   "metadata": {},
   "source": [
    "# TESTING THE MODEL ON TEST DATA"
   ]
  },
  {
   "cell_type": "code",
   "execution_count": 14,
   "id": "96c7e2ca",
   "metadata": {},
   "outputs": [],
   "source": [
    "ŷ = np.array([1 if (np.dot(w, x_test[i]) + b)>=0.5 else 0 for i in range(x_test.shape[0])])"
   ]
  },
  {
   "cell_type": "code",
   "execution_count": 15,
   "id": "58453382",
   "metadata": {},
   "outputs": [
    {
     "data": {
      "text/plain": [
       "0.9784663865546218"
      ]
     },
     "execution_count": 15,
     "metadata": {},
     "output_type": "execute_result"
    }
   ],
   "source": [
    "accuracy_score(ŷ, y_test)"
   ]
  },
  {
   "cell_type": "code",
   "execution_count": 16,
   "id": "028f9db6",
   "metadata": {},
   "outputs": [
    {
     "data": {
      "text/plain": [
       "array([[867,  41],\n",
       "       [  0, 996]], dtype=int64)"
      ]
     },
     "execution_count": 16,
     "metadata": {},
     "output_type": "execute_result"
    }
   ],
   "source": [
    "confusion_matrix(ŷ, y_test)"
   ]
  },
  {
   "cell_type": "markdown",
   "id": "fe8bdb62",
   "metadata": {},
   "source": [
    "# TESTING THE MODEL ON TRAIN DATA"
   ]
  },
  {
   "cell_type": "code",
   "execution_count": 17,
   "id": "a3c46f32",
   "metadata": {},
   "outputs": [],
   "source": [
    "ŷ = np.array([1 if (np.dot(w, x_train[i]) + b)>=0.5 else 0 for i in range(x_train.shape[0])])"
   ]
  },
  {
   "cell_type": "code",
   "execution_count": 18,
   "id": "6b9c40b0",
   "metadata": {},
   "outputs": [
    {
     "data": {
      "text/plain": [
       "1.0"
      ]
     },
     "execution_count": 18,
     "metadata": {},
     "output_type": "execute_result"
    }
   ],
   "source": [
    "accuracy_score(ŷ, y_train)"
   ]
  },
  {
   "cell_type": "code",
   "execution_count": 19,
   "id": "3e664873",
   "metadata": {},
   "outputs": [
    {
     "data": {
      "text/plain": [
       "array([[113,   0],\n",
       "       [  0,  98]], dtype=int64)"
      ]
     },
     "execution_count": 19,
     "metadata": {},
     "output_type": "execute_result"
    }
   ],
   "source": [
    "confusion_matrix(ŷ, y_train)"
   ]
  },
  {
   "cell_type": "code",
   "execution_count": null,
   "id": "7582b0aa",
   "metadata": {},
   "outputs": [],
   "source": []
  }
 ],
 "metadata": {
  "kernelspec": {
   "display_name": "Python 3 (ipykernel)",
   "language": "python",
   "name": "python3"
  },
  "language_info": {
   "codemirror_mode": {
    "name": "ipython",
    "version": 3
   },
   "file_extension": ".py",
   "mimetype": "text/x-python",
   "name": "python",
   "nbconvert_exporter": "python",
   "pygments_lexer": "ipython3",
   "version": "3.9.7"
  }
 },
 "nbformat": 4,
 "nbformat_minor": 5
}
